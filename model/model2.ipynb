{
 "cells": [
  {
   "cell_type": "code",
   "execution_count": 2,
   "metadata": {},
   "outputs": [],
   "source": [
    "# Importing libraries\n",
    "# Pandas for data manipulation\n",
    "# TfidfVectorizer to convert text to vector\n",
    "# linear_kernel to compute the dot product of two vectors\n",
    "import pandas as pd\n",
    "from sklearn.feature_extraction.text import TfidfVectorizer\n",
    "from sklearn.metrics.pairwise import linear_kernel"
   ]
  },
  {
   "cell_type": "code",
   "execution_count": 5,
   "metadata": {},
   "outputs": [],
   "source": [
    "# importing the dataset \n",
    "# Path : data/data.csv\n",
    "df = pd.read_csv('../data/udemy_courses.csv')"
   ]
  },
  {
   "cell_type": "code",
   "execution_count": 6,
   "metadata": {},
   "outputs": [
    {
     "data": {
      "text/html": [
       "<div>\n",
       "<style scoped>\n",
       "    .dataframe tbody tr th:only-of-type {\n",
       "        vertical-align: middle;\n",
       "    }\n",
       "\n",
       "    .dataframe tbody tr th {\n",
       "        vertical-align: top;\n",
       "    }\n",
       "\n",
       "    .dataframe thead th {\n",
       "        text-align: right;\n",
       "    }\n",
       "</style>\n",
       "<table border=\"1\" class=\"dataframe\">\n",
       "  <thead>\n",
       "    <tr style=\"text-align: right;\">\n",
       "      <th></th>\n",
       "      <th>course_id</th>\n",
       "      <th>course_title</th>\n",
       "      <th>url</th>\n",
       "      <th>is_paid</th>\n",
       "      <th>price</th>\n",
       "      <th>num_subscribers</th>\n",
       "      <th>num_reviews</th>\n",
       "      <th>num_lectures</th>\n",
       "      <th>level</th>\n",
       "      <th>content_duration</th>\n",
       "      <th>published_timestamp</th>\n",
       "      <th>subject</th>\n",
       "    </tr>\n",
       "  </thead>\n",
       "  <tbody>\n",
       "    <tr>\n",
       "      <th>0</th>\n",
       "      <td>1070968</td>\n",
       "      <td>Ultimate Investment Banking Course</td>\n",
       "      <td>https://www.udemy.com/ultimate-investment-bank...</td>\n",
       "      <td>True</td>\n",
       "      <td>200</td>\n",
       "      <td>2147</td>\n",
       "      <td>23</td>\n",
       "      <td>51</td>\n",
       "      <td>All Levels</td>\n",
       "      <td>1.5</td>\n",
       "      <td>2017-01-18T20:58:58Z</td>\n",
       "      <td>Business Finance</td>\n",
       "    </tr>\n",
       "    <tr>\n",
       "      <th>1</th>\n",
       "      <td>1113822</td>\n",
       "      <td>Complete GST Course &amp; Certification - Grow You...</td>\n",
       "      <td>https://www.udemy.com/goods-and-services-tax/</td>\n",
       "      <td>True</td>\n",
       "      <td>75</td>\n",
       "      <td>2792</td>\n",
       "      <td>923</td>\n",
       "      <td>274</td>\n",
       "      <td>All Levels</td>\n",
       "      <td>39.0</td>\n",
       "      <td>2017-03-09T16:34:20Z</td>\n",
       "      <td>Business Finance</td>\n",
       "    </tr>\n",
       "    <tr>\n",
       "      <th>2</th>\n",
       "      <td>1006314</td>\n",
       "      <td>Financial Modeling for Business Analysts and C...</td>\n",
       "      <td>https://www.udemy.com/financial-modeling-for-b...</td>\n",
       "      <td>True</td>\n",
       "      <td>45</td>\n",
       "      <td>2174</td>\n",
       "      <td>74</td>\n",
       "      <td>51</td>\n",
       "      <td>Intermediate Level</td>\n",
       "      <td>2.5</td>\n",
       "      <td>2016-12-19T19:26:30Z</td>\n",
       "      <td>Business Finance</td>\n",
       "    </tr>\n",
       "    <tr>\n",
       "      <th>3</th>\n",
       "      <td>1210588</td>\n",
       "      <td>Beginner to Pro - Financial Analysis in Excel ...</td>\n",
       "      <td>https://www.udemy.com/complete-excel-finance-c...</td>\n",
       "      <td>True</td>\n",
       "      <td>95</td>\n",
       "      <td>2451</td>\n",
       "      <td>11</td>\n",
       "      <td>36</td>\n",
       "      <td>All Levels</td>\n",
       "      <td>3.0</td>\n",
       "      <td>2017-05-30T20:07:24Z</td>\n",
       "      <td>Business Finance</td>\n",
       "    </tr>\n",
       "    <tr>\n",
       "      <th>4</th>\n",
       "      <td>1011058</td>\n",
       "      <td>How To Maximize Your Profits Trading Options</td>\n",
       "      <td>https://www.udemy.com/how-to-maximize-your-pro...</td>\n",
       "      <td>True</td>\n",
       "      <td>200</td>\n",
       "      <td>1276</td>\n",
       "      <td>45</td>\n",
       "      <td>26</td>\n",
       "      <td>Intermediate Level</td>\n",
       "      <td>2.0</td>\n",
       "      <td>2016-12-13T14:57:18Z</td>\n",
       "      <td>Business Finance</td>\n",
       "    </tr>\n",
       "  </tbody>\n",
       "</table>\n",
       "</div>"
      ],
      "text/plain": [
       "   course_id                                       course_title  \\\n",
       "0    1070968                 Ultimate Investment Banking Course   \n",
       "1    1113822  Complete GST Course & Certification - Grow You...   \n",
       "2    1006314  Financial Modeling for Business Analysts and C...   \n",
       "3    1210588  Beginner to Pro - Financial Analysis in Excel ...   \n",
       "4    1011058       How To Maximize Your Profits Trading Options   \n",
       "\n",
       "                                                 url  is_paid  price  \\\n",
       "0  https://www.udemy.com/ultimate-investment-bank...     True    200   \n",
       "1      https://www.udemy.com/goods-and-services-tax/     True     75   \n",
       "2  https://www.udemy.com/financial-modeling-for-b...     True     45   \n",
       "3  https://www.udemy.com/complete-excel-finance-c...     True     95   \n",
       "4  https://www.udemy.com/how-to-maximize-your-pro...     True    200   \n",
       "\n",
       "   num_subscribers  num_reviews  num_lectures               level  \\\n",
       "0             2147           23            51          All Levels   \n",
       "1             2792          923           274          All Levels   \n",
       "2             2174           74            51  Intermediate Level   \n",
       "3             2451           11            36          All Levels   \n",
       "4             1276           45            26  Intermediate Level   \n",
       "\n",
       "   content_duration   published_timestamp           subject  \n",
       "0               1.5  2017-01-18T20:58:58Z  Business Finance  \n",
       "1              39.0  2017-03-09T16:34:20Z  Business Finance  \n",
       "2               2.5  2016-12-19T19:26:30Z  Business Finance  \n",
       "3               3.0  2017-05-30T20:07:24Z  Business Finance  \n",
       "4               2.0  2016-12-13T14:57:18Z  Business Finance  "
      ]
     },
     "execution_count": 6,
     "metadata": {},
     "output_type": "execute_result"
    }
   ],
   "source": [
    "#  Data Visualization\n",
    "df.head()"
   ]
  },
  {
   "cell_type": "code",
   "execution_count": 7,
   "metadata": {},
   "outputs": [
    {
     "data": {
      "text/plain": [
       "array(['All Levels', 'Intermediate Level', 'Beginner Level',\n",
       "       'Expert Level'], dtype=object)"
      ]
     },
     "execution_count": 7,
     "metadata": {},
     "output_type": "execute_result"
    }
   ],
   "source": [
    "# Types of course levels\n",
    "df['level'].unique()"
   ]
  },
  {
   "cell_type": "code",
   "execution_count": 8,
   "metadata": {},
   "outputs": [
    {
     "data": {
      "text/html": [
       "<style>#sk-container-id-1 {color: black;background-color: white;}#sk-container-id-1 pre{padding: 0;}#sk-container-id-1 div.sk-toggleable {background-color: white;}#sk-container-id-1 label.sk-toggleable__label {cursor: pointer;display: block;width: 100%;margin-bottom: 0;padding: 0.3em;box-sizing: border-box;text-align: center;}#sk-container-id-1 label.sk-toggleable__label-arrow:before {content: \"▸\";float: left;margin-right: 0.25em;color: #696969;}#sk-container-id-1 label.sk-toggleable__label-arrow:hover:before {color: black;}#sk-container-id-1 div.sk-estimator:hover label.sk-toggleable__label-arrow:before {color: black;}#sk-container-id-1 div.sk-toggleable__content {max-height: 0;max-width: 0;overflow: hidden;text-align: left;background-color: #f0f8ff;}#sk-container-id-1 div.sk-toggleable__content pre {margin: 0.2em;color: black;border-radius: 0.25em;background-color: #f0f8ff;}#sk-container-id-1 input.sk-toggleable__control:checked~div.sk-toggleable__content {max-height: 200px;max-width: 100%;overflow: auto;}#sk-container-id-1 input.sk-toggleable__control:checked~label.sk-toggleable__label-arrow:before {content: \"▾\";}#sk-container-id-1 div.sk-estimator input.sk-toggleable__control:checked~label.sk-toggleable__label {background-color: #d4ebff;}#sk-container-id-1 div.sk-label input.sk-toggleable__control:checked~label.sk-toggleable__label {background-color: #d4ebff;}#sk-container-id-1 input.sk-hidden--visually {border: 0;clip: rect(1px 1px 1px 1px);clip: rect(1px, 1px, 1px, 1px);height: 1px;margin: -1px;overflow: hidden;padding: 0;position: absolute;width: 1px;}#sk-container-id-1 div.sk-estimator {font-family: monospace;background-color: #f0f8ff;border: 1px dotted black;border-radius: 0.25em;box-sizing: border-box;margin-bottom: 0.5em;}#sk-container-id-1 div.sk-estimator:hover {background-color: #d4ebff;}#sk-container-id-1 div.sk-parallel-item::after {content: \"\";width: 100%;border-bottom: 1px solid gray;flex-grow: 1;}#sk-container-id-1 div.sk-label:hover label.sk-toggleable__label {background-color: #d4ebff;}#sk-container-id-1 div.sk-serial::before {content: \"\";position: absolute;border-left: 1px solid gray;box-sizing: border-box;top: 0;bottom: 0;left: 50%;z-index: 0;}#sk-container-id-1 div.sk-serial {display: flex;flex-direction: column;align-items: center;background-color: white;padding-right: 0.2em;padding-left: 0.2em;position: relative;}#sk-container-id-1 div.sk-item {position: relative;z-index: 1;}#sk-container-id-1 div.sk-parallel {display: flex;align-items: stretch;justify-content: center;background-color: white;position: relative;}#sk-container-id-1 div.sk-item::before, #sk-container-id-1 div.sk-parallel-item::before {content: \"\";position: absolute;border-left: 1px solid gray;box-sizing: border-box;top: 0;bottom: 0;left: 50%;z-index: -1;}#sk-container-id-1 div.sk-parallel-item {display: flex;flex-direction: column;z-index: 1;position: relative;background-color: white;}#sk-container-id-1 div.sk-parallel-item:first-child::after {align-self: flex-end;width: 50%;}#sk-container-id-1 div.sk-parallel-item:last-child::after {align-self: flex-start;width: 50%;}#sk-container-id-1 div.sk-parallel-item:only-child::after {width: 0;}#sk-container-id-1 div.sk-dashed-wrapped {border: 1px dashed gray;margin: 0 0.4em 0.5em 0.4em;box-sizing: border-box;padding-bottom: 0.4em;background-color: white;}#sk-container-id-1 div.sk-label label {font-family: monospace;font-weight: bold;display: inline-block;line-height: 1.2em;}#sk-container-id-1 div.sk-label-container {text-align: center;}#sk-container-id-1 div.sk-container {/* jupyter's `normalize.less` sets `[hidden] { display: none; }` but bootstrap.min.css set `[hidden] { display: none !important; }` so we also need the `!important` here to be able to override the default hidden behavior on the sphinx rendered scikit-learn.org. See: https://github.com/scikit-learn/scikit-learn/issues/21755 */display: inline-block !important;position: relative;}#sk-container-id-1 div.sk-text-repr-fallback {display: none;}</style><div id=\"sk-container-id-1\" class=\"sk-top-container\"><div class=\"sk-text-repr-fallback\"><pre>TfidfVectorizer(min_df=0, ngram_range=(1, 2), stop_words=&#x27;english&#x27;)</pre><b>In a Jupyter environment, please rerun this cell to show the HTML representation or trust the notebook. <br />On GitHub, the HTML representation is unable to render, please try loading this page with nbviewer.org.</b></div><div class=\"sk-container\" hidden><div class=\"sk-item\"><div class=\"sk-estimator sk-toggleable\"><input class=\"sk-toggleable__control sk-hidden--visually\" id=\"sk-estimator-id-1\" type=\"checkbox\" checked><label for=\"sk-estimator-id-1\" class=\"sk-toggleable__label sk-toggleable__label-arrow\">TfidfVectorizer</label><div class=\"sk-toggleable__content\"><pre>TfidfVectorizer(min_df=0, ngram_range=(1, 2), stop_words=&#x27;english&#x27;)</pre></div></div></div></div></div>"
      ],
      "text/plain": [
       "TfidfVectorizer(min_df=0, ngram_range=(1, 2), stop_words='english')"
      ]
     },
     "execution_count": 8,
     "metadata": {},
     "output_type": "execute_result"
    }
   ],
   "source": [
    "# Now we will use TF-IDF vectorizer to convert text to vector\n",
    "# TF-IDF is an abbreviation for Term Frequency Inverse Document Frequency.\n",
    "# This is very common algorithm to transform text into a meaningful representation of numbers which is used to fit machine algorithm for prediction.\n",
    "\n",
    "# Removing all english stop words such as 'the', 'a'\n",
    "tf = TfidfVectorizer(analyzer=\"word\", ngram_range=(1, 2), min_df=0, stop_words=\"english\")\n",
    "tf"
   ]
  },
  {
   "cell_type": "code",
   "execution_count": 21,
   "metadata": {},
   "outputs": [
    {
     "data": {
      "text/plain": [
       "0           All Levels Ultimate Investment Banking Course\n",
       "1       All Levels Complete GST Course & Certification...\n",
       "2       Intermediate Level Financial Modeling for Busi...\n",
       "3       All Levels Beginner to Pro - Financial Analysi...\n",
       "4       Intermediate Level How To Maximize Your Profit...\n",
       "                              ...                        \n",
       "3673    All Levels Learn jQuery from Scratch - Master ...\n",
       "3674    Beginner Level How To Design A WordPress Websi...\n",
       "3675             All Levels Learn and Build using Polymer\n",
       "3676    All Levels CSS Animations: Create Amazing Effe...\n",
       "3677    Beginner Level Using MODX CMS to Build Website...\n",
       "Name: features, Length: 3678, dtype: object"
      ]
     },
     "execution_count": 21,
     "metadata": {},
     "output_type": "execute_result"
    }
   ],
   "source": [
    "# Combine relevant features into a single text column\n",
    "df['features'] = df['level'] + ' ' + df['course_title'] \n",
    "df['features']"
   ]
  },
  {
   "cell_type": "code",
   "execution_count": 22,
   "metadata": {},
   "outputs": [
    {
     "name": "stdout",
     "output_type": "stream",
     "text": [
      "Shape : (3678, 15106)\n"
     ]
    },
    {
     "data": {
      "text/plain": [
       "<3678x15106 sparse matrix of type '<class 'numpy.float64'>'\n",
       "\twith 44760 stored elements in Compressed Sparse Row format>"
      ]
     },
     "execution_count": 22,
     "metadata": {},
     "output_type": "execute_result"
    }
   ],
   "source": [
    "# Now we will fit and transform the data using TF-IDF vectorized data\n",
    "tfidf_matrix = tf.fit_transform(df[\"features\"])\n",
    "print(\"Shape :\", tfidf_matrix.shape)\n",
    "tfidf_matrix"
   ]
  },
  {
   "cell_type": "code",
   "execution_count": 23,
   "metadata": {},
   "outputs": [],
   "source": [
    "# Computing the cosine similarity on Tfidf matrix\n",
    "cosine_similarities = linear_kernel(tfidf_matrix, tfidf_matrix)"
   ]
  },
  {
   "cell_type": "code",
   "execution_count": 24,
   "metadata": {},
   "outputs": [],
   "source": [
    "# creating a mapping of course title to index number\n",
    "# here we will use course_difficulty and features to find the specific difficulty and subject\n",
    "user_difficulty = input(\"Enter the difficulty of course ( 'All Levels', 'Intermediate Level', 'Beginner Level','Expert Level' )  : \")\n",
    "user_subject = input(\"Enter the subject of course : \")\n",
    "user_course_index = df.index[(df['level'] == user_difficulty) & (df['features'].str.contains(user_subject))].tolist()[0]\n"
   ]
  },
  {
   "cell_type": "code",
   "execution_count": 25,
   "metadata": {},
   "outputs": [],
   "source": [
    "# Here we are comparing all the courses with the user_course_index and storing the similarity scores in a list\n",
    "similarity_scores = list(enumerate(cosine_similarities[user_course_index]))"
   ]
  },
  {
   "cell_type": "code",
   "execution_count": 27,
   "metadata": {},
   "outputs": [],
   "source": [
    "# Here we are sorting the weighted_scores list in descending order\n",
    "similar_courses = sorted(similarity_scores, key=lambda x: x[1], reverse=True)\n"
   ]
  },
  {
   "cell_type": "code",
   "execution_count": 28,
   "metadata": {},
   "outputs": [
    {
     "name": "stdout",
     "output_type": "stream",
     "text": [
      "Recommended Courses:\n",
      "Python Algo Stock Trading: Automate Your Trading! - Similarity Score: 0.41\n",
      "course_id                                                        1170894\n",
      "course_title           Python Algo Stock Trading: Automate Your Trading!\n",
      "url                    https://www.udemy.com/algorithmic-stock-tradin...\n",
      "is_paid                                                             True\n",
      "price                                                                 95\n",
      "num_subscribers                                                     1165\n",
      "num_reviews                                                           21\n",
      "num_lectures                                                          41\n",
      "level                                                     Beginner Level\n",
      "content_duration                                                     2.5\n",
      "published_timestamp                                 2017-05-28T23:41:03Z\n",
      "subject                                                 Business Finance\n",
      "features               Beginner Level Python Algo Stock Trading: Auto...\n",
      "Name: 30, dtype: object\n",
      "-------------------------------------------\n",
      "Python Algo Trading: Sentiment Trading with News - Similarity Score: 0.39\n",
      "course_id                                                        1196544\n",
      "course_title            Python Algo Trading: Sentiment Trading with News\n",
      "url                    https://www.udemy.com/hedge-fund-strategy-trad...\n",
      "is_paid                                                             True\n",
      "price                                                                200\n",
      "num_subscribers                                                      294\n",
      "num_reviews                                                           19\n",
      "num_lectures                                                          42\n",
      "level                                                         All Levels\n",
      "content_duration                                                     7.0\n",
      "published_timestamp                                 2017-04-28T16:41:44Z\n",
      "subject                                                 Business Finance\n",
      "features               All Levels Python Algo Trading: Sentiment Trad...\n",
      "Name: 14, dtype: object\n",
      "-------------------------------------------\n",
      "FX Trading for Beginners - Similarity Score: 0.34\n",
      "course_id                                                       118836\n",
      "course_title                                  FX Trading for Beginners\n",
      "url                    https://www.udemy.com/fx-trading-for-beginners/\n",
      "is_paid                                                           True\n",
      "price                                                               20\n",
      "num_subscribers                                                     16\n",
      "num_reviews                                                          0\n",
      "num_lectures                                                        22\n",
      "level                                                       All Levels\n",
      "content_duration                                                   1.5\n",
      "published_timestamp                               2013-12-01T04:10:23Z\n",
      "subject                                               Business Finance\n",
      "features                           All Levels FX Trading for Beginners\n",
      "Name: 581, dtype: object\n",
      "-------------------------------------------\n",
      "Black Algo Trading: Build Your Trading Robot - Similarity Score: 0.26\n",
      "course_id                                                         301442\n",
      "course_title                Black Algo Trading: Build Your Trading Robot\n",
      "url                      https://www.udemy.com/build-your-trading-robot/\n",
      "is_paid                                                             True\n",
      "price                                                                200\n",
      "num_subscribers                                                    20195\n",
      "num_reviews                                                         1113\n",
      "num_lectures                                                         227\n",
      "level                                                         All Levels\n",
      "content_duration                                                    16.0\n",
      "published_timestamp                                 2014-10-27T22:01:36Z\n",
      "subject                                                 Business Finance\n",
      "features               All Levels Black Algo Trading: Build Your Trad...\n",
      "Name: 44, dtype: object\n",
      "-------------------------------------------\n",
      "Python Web Programming - Similarity Score: 0.22\n",
      "course_id                                                     523312\n",
      "course_title                                  Python Web Programming\n",
      "url                    https://www.udemy.com/python-web-programming/\n",
      "is_paid                                                         True\n",
      "price                                                            100\n",
      "num_subscribers                                                 1020\n",
      "num_reviews                                                       46\n",
      "num_lectures                                                      60\n",
      "level                                                 Beginner Level\n",
      "content_duration                                                 6.0\n",
      "published_timestamp                             2015-07-01T21:46:36Z\n",
      "subject                                              Web Development\n",
      "features                       Beginner Level Python Web Programming\n",
      "Name: 3343, dtype: object\n",
      "-------------------------------------------\n"
     ]
    }
   ],
   "source": [
    "# Printing the top 5 similar courses\n",
    "print(\"Recommended Courses:\")\n",
    "for i, score in similar_courses[1:6]:\n",
    "    print(f\"{df['course_title'][i]} - Similarity Score: {score:.2f}\")\n",
    "    print(df.iloc[i])\n",
    "    print(\"-------------------------------------------\")\n"
   ]
  },
  {
   "cell_type": "code",
   "execution_count": null,
   "metadata": {},
   "outputs": [],
   "source": []
  }
 ],
 "metadata": {
  "kernelspec": {
   "display_name": "Python 3",
   "language": "python",
   "name": "python3"
  },
  "language_info": {
   "codemirror_mode": {
    "name": "ipython",
    "version": 3
   },
   "file_extension": ".py",
   "mimetype": "text/x-python",
   "name": "python",
   "nbconvert_exporter": "python",
   "pygments_lexer": "ipython3",
   "version": "3.10.12"
  }
 },
 "nbformat": 4,
 "nbformat_minor": 2
}
